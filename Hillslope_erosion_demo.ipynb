{
 "cells": [
  {
   "cell_type": "markdown",
   "metadata": {},
   "source": [
    "# Hillslope erosion"
   ]
  },
  {
   "cell_type": "markdown",
   "metadata": {},
   "source": [
    "We consider the problem of hill slope erosion with the diffusion equation: $$\\frac{\\partial h}{\\partial t} = \\frac{\\partial^2 h}{\\partial x^2}$$\n",
    "\n",
    "and we consider the boundary condition: $$ h(x=0,2L,t)=0$$ \n",
    "which implies that the sediment thickness remains fixed at zero at the bounds of the initial hill slope. The initial condition is a triangular hill\n",
    "\n",
    "$ h(t=0,0<x<L) = H_{max} x / L$\n",
    "\n",
    "$ h(t=0,L<x<2L) = H_{max} [1- (x-L)/ L]$\n"
   ]
  },
  {
   "cell_type": "code",
   "execution_count": 26,
   "metadata": {},
   "outputs": [],
   "source": [
    "#lets import some packages\n",
    "import numpy as np\n",
    "import matplotlib.pyplot as plt\n",
    "import scipy"
   ]
  },
  {
   "cell_type": "markdown",
   "metadata": {},
   "source": [
    "## Set parameters"
   ]
  },
  {
   "cell_type": "code",
   "execution_count": 52,
   "metadata": {},
   "outputs": [],
   "source": [
    "D = 0.1\n",
    "L = 10\n",
    "H_max_init = 20\n",
    "\n",
    "dx = 2*L/201\n",
    "C_D = 0.5\n",
    "dt = (dx**2)*C_D/D\n",
    "\n",
    "tf = 100\n",
    "\n",
    "m = 202\n",
    "n = round(tf/dt) + 1\n",
    "\n",
    "x = np.linspace(0,2*L,m)\n",
    "t = np.linspace(0,tf,n)"
   ]
  },
  {
   "cell_type": "markdown",
   "metadata": {},
   "source": [
    "## Pre-allocate vectors"
   ]
  },
  {
   "cell_type": "code",
   "execution_count": 53,
   "metadata": {},
   "outputs": [],
   "source": [
    "h = np.zeros(m)\n",
    "h_all = np.zeros([m,n])"
   ]
  },
  {
   "cell_type": "markdown",
   "metadata": {},
   "source": [
    "## Create advection evolution matrix (inc BCs)"
   ]
  },
  {
   "cell_type": "code",
   "execution_count": 54,
   "metadata": {},
   "outputs": [],
   "source": [
    "from scipy.sparse import dia_matrix\n",
    "M = dia_matrix((m, m), dtype=np.double).toarray()\n",
    "for i in np.arange(0,m):\n",
    "    for j in np.arange(0,m):\n",
    "        if i==j:\n",
    "            M[i,j] = 1-2*C_D\n",
    "        elif i-1==j:\n",
    "            M[i,j] = C_D\n",
    "        elif i+1==j:\n",
    "            M[i,j] = C_D"
   ]
  },
  {
   "cell_type": "markdown",
   "metadata": {},
   "source": [
    "## Initial condition"
   ]
  },
  {
   "cell_type": "code",
   "execution_count": 55,
   "metadata": {},
   "outputs": [],
   "source": [
    "x1 = (x<L) \n",
    "x2 = (x>L) \n",
    "h[x1] = H_max_init*x[x1]/L\n",
    "h[x2] = H_max_init*(1 - (x[x2]-L)/L)\n",
    "\n",
    "h_all[:,0] = h.transpose()"
   ]
  },
  {
   "cell_type": "markdown",
   "metadata": {},
   "source": [
    "## Run model loop!"
   ]
  },
  {
   "cell_type": "code",
   "execution_count": 56,
   "metadata": {},
   "outputs": [],
   "source": [
    "for k in np.arange(0,n):\n",
    "    hnew = np.matmul(M,h)\n",
    "    \n",
    "    h_all[:,k] = hnew.transpose()\n",
    "    h = hnew"
   ]
  },
  {
   "cell_type": "markdown",
   "metadata": {},
   "source": [
    "## Plot stuff"
   ]
  },
  {
   "cell_type": "code",
   "execution_count": 57,
   "metadata": {},
   "outputs": [
    {
     "data": {
      "text/plain": [
       "<matplotlib.colorbar.Colorbar at 0x7fc0a07babd0>"
      ]
     },
     "execution_count": 57,
     "metadata": {},
     "output_type": "execute_result"
    },
    {
     "data": {
      "image/png": "[encoded data removed]",
      "text/plain": [
       "<Figure size 432x288 with 2 Axes>"
      ]
     },
     "metadata": {
      "needs_background": "light"
     },
     "output_type": "display_data"
    }
   ],
   "source": [
    "plt.pcolor(x,t,h_all.transpose())\n",
    "plt.colorbar()"
   ]
  },
  {
   "cell_type": "code",
   "execution_count": null,
   "metadata": {},
   "outputs": [],
   "source": []
  }
 ],
 "metadata": {
  "kernelspec": {
   "display_name": "Python 3",
   "language": "python",
   "name": "python3"
  },
  "language_info": {
   "codemirror_mode": {
    "name": "ipython",
    "version": 3
   },
   "file_extension": ".py",
   "mimetype": "text/x-python",
   "name": "python",
   "nbconvert_exporter": "python",
   "pygments_lexer": "ipython3",
   "version": "3.7.6"
  }
 },
 "nbformat": 4,
 "nbformat_minor": 5
}
