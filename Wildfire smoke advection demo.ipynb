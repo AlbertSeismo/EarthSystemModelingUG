{
 "cells": [
  {
   "cell_type": "markdown",
   "metadata": {},
   "source": [
    "# Wildfire Smoke Advection"
   ]
  },
  {
   "cell_type": "markdown",
   "metadata": {},
   "source": [
    "We consider the problem of wildfire smoke, originating in Southern california, advecting Eastwards in the upper troposphere. We would like to simulate the evolution of smoke concentration over the Southern US (a 1D transect from the West to the East coast), and track the modeled smoke concentration in Atlanta. The advection equation in the absence of a source or sink, is: $$\\frac{\\partial J}{\\partial t} + u \\frac{\\partial J}{\\partial x} = 0$$\n",
    "\n",
    "and we consider the boundary condition: $$ J(x=0,t)=0$$ \n",
    "which implies that no smoke comes in at the Western edge of the domain (i.e. from the Pacific Ocean). The initial condition is a uniform concentration of smoke over a narrow region:\n",
    "\n",
    "$ J(t=0,x) = 1$ for $10<x<100$ km\n",
    "\n",
    "$ J(t=0,x) = 0$ elsewhere\n"
   ]
  },
  {
   "cell_type": "code",
   "execution_count": 1,
   "metadata": {},
   "outputs": [],
   "source": [
    "#lets import some packages\n",
    "import numpy as np\n",
    "import matplotlib.pyplot as plt\n",
    "import scipy"
   ]
  },
  {
   "cell_type": "markdown",
   "metadata": {},
   "source": [
    "## Set parameters"
   ]
  },
  {
   "cell_type": "code",
   "execution_count": 74,
   "metadata": {},
   "outputs": [],
   "source": [
    "u = 0.05\n",
    "xf = 3000\n",
    "tf = 86400\n",
    "\n",
    "m = 301\n",
    "n = int(tf/200)\n",
    "\n",
    "dx = xf/(m-1)\n",
    "dt = 200\n",
    "\n",
    "C = u*dt/dx"
   ]
  },
  {
   "cell_type": "markdown",
   "metadata": {},
   "source": [
    "## Pre-allocate vectors"
   ]
  },
  {
   "cell_type": "code",
   "execution_count": 67,
   "metadata": {},
   "outputs": [],
   "source": [
    "J = np.zeros([m,1])\n",
    "Jall = np.zeros([m,n])\n",
    "\n",
    "x = np.linspace(0,xf,m)\n",
    "ts = np.linspace(0,tf,n)"
   ]
  },
  {
   "cell_type": "markdown",
   "metadata": {},
   "source": [
    "## Create advection evolution matrix (inc BCs)"
   ]
  },
  {
   "cell_type": "code",
   "execution_count": 68,
   "metadata": {},
   "outputs": [],
   "source": [
    "from scipy.sparse import dia_matrix\n",
    "M = dia_matrix((m, m), dtype=np.double).toarray()\n",
    "for i in np.arange(0,m):\n",
    "    for j in np.arange(0,m):\n",
    "        if i==j:\n",
    "            M[i,j] = 1-C\n",
    "        elif i-1==j:\n",
    "            M[i,j] = C"
   ]
  },
  {
   "cell_type": "markdown",
   "metadata": {},
   "source": [
    "## Initial condition"
   ]
  },
  {
   "cell_type": "code",
   "execution_count": 69,
   "metadata": {},
   "outputs": [],
   "source": [
    "xidx = (x>=10) & (x<=100) \n",
    "J[xidx] = 1\n",
    "Jall[:,0] = J.transpose()"
   ]
  },
  {
   "cell_type": "markdown",
   "metadata": {},
   "source": [
    "## Run model loop!"
   ]
  },
  {
   "cell_type": "code",
   "execution_count": 70,
   "metadata": {},
   "outputs": [],
   "source": [
    "for t in np.arange(0,n):\n",
    "    Jnew = np.matmul(M,J)\n",
    "    \n",
    "    Jall[:,t] = Jnew.transpose()\n",
    "    J = Jnew"
   ]
  },
  {
   "cell_type": "markdown",
   "metadata": {},
   "source": [
    "## Plot stuff"
   ]
  },
  {
   "cell_type": "code",
   "execution_count": 64,
   "metadata": {},
   "outputs": [
    {
     "ename": "IndexError",
     "evalue": "index 250 is out of bounds for axis 0 with size 201",
     "output_type": "error",
     "traceback": [
      "\u001b[0;31m---------------------------------------------------------------------------\u001b[0m",
      "\u001b[0;31mIndexError\u001b[0m                                Traceback (most recent call last)",
      "\u001b[0;32m/tmp/ipykernel_98/1715084271.py\u001b[0m in \u001b[0;36m<module>\u001b[0;34m\u001b[0m\n\u001b[0;32m----> 1\u001b[0;31m \u001b[0mplt\u001b[0m\u001b[0;34m.\u001b[0m\u001b[0mplot\u001b[0m\u001b[0;34m(\u001b[0m\u001b[0mts\u001b[0m\u001b[0;34m/\u001b[0m\u001b[0;36m3600\u001b[0m\u001b[0;34m,\u001b[0m\u001b[0mJall\u001b[0m\u001b[0;34m[\u001b[0m\u001b[0;36m250\u001b[0m\u001b[0;34m,\u001b[0m\u001b[0;34m:\u001b[0m\u001b[0;34m]\u001b[0m\u001b[0;34m)\u001b[0m\u001b[0;34m\u001b[0m\u001b[0;34m\u001b[0m\u001b[0m\n\u001b[0m",
      "\u001b[0;31mIndexError\u001b[0m: index 250 is out of bounds for axis 0 with size 201"
     ]
    }
   ],
   "source": [
    "plt.plot(ts/3600,Jall[250,:])"
   ]
  },
  {
   "cell_type": "code",
   "execution_count": 73,
   "metadata": {},
   "outputs": [
    {
     "data": {
      "text/plain": [
       "Text(0, 0.5, 'distance east (km)')"
      ]
     },
     "execution_count": 73,
     "metadata": {},
     "output_type": "execute_result"
    },
    {
     "data": {
      "image/png": "[encoded data removed]",
      "text/plain": [
       "<Figure size 432x288 with 2 Axes>"
      ]
     },
     "metadata": {
      "needs_background": "light"
     },
     "output_type": "display_data"
    }
   ],
   "source": [
    "plt.pcolor(ts/3600,x,Jall)\n",
    "plt.colorbar()\n",
    "plt.xlabel('time (hr)')\n",
    "plt.ylabel('distance east (km)')"
   ]
  },
  {
   "cell_type": "code",
   "execution_count": null,
   "metadata": {},
   "outputs": [],
   "source": []
  }
 ],
 "metadata": {
  "kernelspec": {
   "display_name": "Python 3",
   "language": "python",
   "name": "python3"
  },
  "language_info": {
   "codemirror_mode": {
    "name": "ipython",
    "version": 3
   },
   "file_extension": ".py",
   "mimetype": "text/x-python",
   "name": "python",
   "nbconvert_exporter": "python",
   "pygments_lexer": "ipython3",
   "version": "3.7.6"
  }
 },
 "nbformat": 4,
 "nbformat_minor": 5
}
